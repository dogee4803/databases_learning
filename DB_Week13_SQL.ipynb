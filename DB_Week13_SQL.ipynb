{
  "nbformat": 4,
  "nbformat_minor": 0,
  "metadata": {
    "colab": {
      "provenance": [],
      "authorship_tag": "ABX9TyONaTFU2tjDIUW9wenemqC3",
      "include_colab_link": true
    },
    "kernelspec": {
      "name": "python3",
      "display_name": "Python 3"
    },
    "language_info": {
      "name": "python"
    }
  },
  "cells": [
    {
      "cell_type": "markdown",
      "metadata": {
        "id": "view-in-github",
        "colab_type": "text"
      },
      "source": [
        "<a href=\"https://colab.research.google.com/github/dogee4803/db_course/blob/main/DB_Week13_SQL.ipynb\" target=\"_parent\"><img src=\"https://colab.research.google.com/assets/colab-badge.svg\" alt=\"Open In Colab\"/></a>"
      ]
    },
    {
      "cell_type": "markdown",
      "source": [
        "# Example 1: Efficient Indexing"
      ],
      "metadata": {
        "id": "ody-4lcdHBTX"
      }
    },
    {
      "cell_type": "code",
      "source": [
        "import sqlite3 as sl\n",
        "# Connect to SQLite database\n",
        "conn = sl.connect('example.db')\n",
        "c = conn.cursor()"
      ],
      "metadata": {
        "id": "Io8CXXbhS3OJ"
      },
      "execution_count": null,
      "outputs": []
    },
    {
      "cell_type": "code",
      "source": [
        "# Create a sample table\n",
        "c.execute('''CREATE TABLE IF NOT EXISTS employees(\n",
        "              id INTEGER PRIMARY KEY,\n",
        "              name TEXT,\n",
        "              department TEXT,\n",
        "              salary INTEGER\n",
        "              )'''\n",
        "              )"
      ],
      "metadata": {
        "id": "g1Emnv6ES4L6"
      },
      "execution_count": null,
      "outputs": []
    },
    {
      "cell_type": "code",
      "source": [
        "# This example demonstrates how to create an index on the 'department' column.\n",
        "# The index will improve the perfomance of queries filtering by department\n",
        "\n",
        "# Adding some sample data\n",
        "sample_data = [(1, 'Alice', 'HR', 7000), (2, 'Bob', 'Engineering', 8000), (3, 'Charlie', 'HR', 75000)]\n",
        "c.executemany('INSERT INTO employees VALUES (?,?,?,?)', sample_data)\n",
        "\n",
        "# Creating an index\n",
        "c.execute('CREATE INDEX idx_department ON employees (department)')\n",
        "\n",
        "# Indexes can significantly improve the perfomance of quries that filter or sort based on the indexed column.\n",
        "# However, they can also slow down data  insertation and updates\n",
        "\n",
        "# Querying with and without the index\n",
        "c.execute('SELECT * FROM employees WHERE department = \"HR\"')\n",
        "print(\"Query plan with index: \", c.fetchall())\n",
        "\n",
        "# Drop the index\n",
        "c.execute('DROP INDEX idx_department')\n",
        "\n",
        "c.execute('SELECT * FROM employees WHERE department = \"HR\"')\n",
        "print(\"Query plan without index: \", c.fetchall())\n",
        "\n",
        "# Cleanup\n",
        "conn.commit()\n",
        "conn.close()"
      ],
      "metadata": {
        "colab": {
          "base_uri": "https://localhost:8080/"
        },
        "id": "Wp_OtkBIHDQO",
        "outputId": "1eeb5740-bfe5-473f-bf9e-d28cb990e154"
      },
      "execution_count": 3,
      "outputs": [
        {
          "output_type": "stream",
          "name": "stdout",
          "text": [
            "Query plan with index:  [(1, 'Alice', 'HR', 7000), (3, 'Charlie', 'HR', 75000)]\n",
            "Query plan without index:  [(1, 'Alice', 'HR', 7000), (3, 'Charlie', 'HR', 75000)]\n"
          ]
        }
      ]
    },
    {
      "cell_type": "markdown",
      "source": [
        "# Example 2: Query optomization example"
      ],
      "metadata": {
        "id": "Ersb29NaHtcN"
      }
    },
    {
      "cell_type": "code",
      "source": [
        "import sqlite3 as sl\n",
        "# Connect to SQLite database\n",
        "conn = sl.connect('example1.db')\n",
        "c = conn.cursor()"
      ],
      "metadata": {
        "id": "5126xdXhIQ-t"
      },
      "execution_count": 4,
      "outputs": []
    },
    {
      "cell_type": "code",
      "source": [
        "# Create a sample table\n",
        "c.execute('''CREATE TABLE IF NOT EXISTS products(\n",
        "              id INTEGER PRIMARY KEY,\n",
        "              name TEXT,\n",
        "              category TEXT,\n",
        "              price INTEGER\n",
        "              )'''\n",
        "              )"
      ],
      "metadata": {
        "colab": {
          "base_uri": "https://localhost:8080/"
        },
        "id": "YVOfnyTJIW6r",
        "outputId": "206086ea-b9b0-40fc-d580-a341fcc2d03e"
      },
      "execution_count": 5,
      "outputs": [
        {
          "output_type": "execute_result",
          "data": {
            "text/plain": [
              "<sqlite3.Cursor at 0x7ba009023440>"
            ]
          },
          "metadata": {},
          "execution_count": 5
        }
      ]
    },
    {
      "cell_type": "code",
      "source": [
        "# This example demonstrates how to write an optimized query by selecting only the necessary columns\n",
        "# and using efficient filtering.\n",
        "\n",
        "# Adding some sample data\n",
        "sample_data = [(1, 'Laptop', 'Electronics', 1200), (2, 'Chair', 'Furniture', 150), (3, 'Smartphone', 'Electronics', 800)]\n",
        "c.executemany('INSERT INTO products VALUES (?,?,?,?)', sample_data)\n",
        "\n",
        "# Selecting specific columns and filtering\n",
        "c.execute('SELECT name, price FROM products WHERE category = \"Electronics\"')\n",
        "print(\"Efficient query results: \", c.fetchall())\n",
        "\n",
        "# Cleanup\n",
        "conn.commit()\n",
        "conn.close()"
      ],
      "metadata": {
        "colab": {
          "base_uri": "https://localhost:8080/"
        },
        "id": "9jAwJCLOIkIn",
        "outputId": "1e3470cf-2033-49e9-e7cb-72ba3a74d678"
      },
      "execution_count": 12,
      "outputs": [
        {
          "output_type": "stream",
          "name": "stdout",
          "text": [
            "Efficient query results:  [('Laptop', 1200), ('Smartphone', 800), ('Laptop', 1200), ('Smartphone', 800)]\n"
          ]
        }
      ]
    },
    {
      "cell_type": "markdown",
      "source": [
        "# Example 3: Transaction optimization"
      ],
      "metadata": {
        "id": "73oH5JLpK9pK"
      }
    },
    {
      "cell_type": "code",
      "source": [
        "import sqlite3 as sl\n",
        "# Connect to SQLite database\n",
        "conn = sl.connect('example2.db')\n",
        "c = conn.cursor()"
      ],
      "metadata": {
        "id": "HLa78AG4LM8g"
      },
      "execution_count": 13,
      "outputs": []
    },
    {
      "cell_type": "code",
      "source": [
        "# Create a sample table\n",
        "c.execute('''CREATE TABLE IF NOT EXISTS orders(\n",
        "              id INTEGER PRIMARY KEY,\n",
        "              product_id INTEGER,\n",
        "              quantity INTEGER\n",
        "              )'''\n",
        "              )"
      ],
      "metadata": {
        "colab": {
          "base_uri": "https://localhost:8080/"
        },
        "id": "owWY8iKqLRAj",
        "outputId": "175bfce1-6c3b-4849-aaa5-2b6478da32dd"
      },
      "execution_count": 14,
      "outputs": [
        {
          "output_type": "execute_result",
          "data": {
            "text/plain": [
              "<sqlite3.Cursor at 0x7ba0090ab740>"
            ]
          },
          "metadata": {},
          "execution_count": 14
        }
      ]
    },
    {
      "cell_type": "code",
      "source": [
        "# This example demonstrates the use of transactions to optimize bulk data insertations.\n",
        "\n",
        "# Start a transaction\n",
        "c.execute('BEGIN TRANSACTION')\n",
        "\n",
        "# Bulk insert data\n",
        "bulk_data = [(i, i % 5 + 1, i * 2) for i in range(1, 1001)]\n",
        "c.executemany('INSERT INTO orders VALUES (?,?,?)', bulk_data)\n",
        "\n",
        "# Commit the transaction\n",
        "conn.commit()\n",
        "\n",
        "# Query to verify data insertion\n",
        "c.execute('SELECT COUNT(*) FROM orders')\n",
        "print(\"Number of records inserted: \", c.fetchone()[0])\n",
        "\n",
        "# Cleanup\n",
        "conn.close()"
      ],
      "metadata": {
        "colab": {
          "base_uri": "https://localhost:8080/"
        },
        "id": "YRIGvpHELkR1",
        "outputId": "80a4384a-be94-491f-b64f-4ff6d72382ec"
      },
      "execution_count": 15,
      "outputs": [
        {
          "output_type": "stream",
          "name": "stdout",
          "text": [
            "Number of records inserted:  1000\n"
          ]
        }
      ]
    },
    {
      "cell_type": "markdown",
      "source": [
        "# Example 4: Efficient join query"
      ],
      "metadata": {
        "id": "iVBMRG0GP_J8"
      }
    },
    {
      "cell_type": "code",
      "source": [
        "import sqlite3 as sl\n",
        "# Connect to SQLite database\n",
        "conn = sl.connect('example3.db')\n",
        "c = conn.cursor()"
      ],
      "metadata": {
        "id": "1zZ34Wg-QHhS"
      },
      "execution_count": 16,
      "outputs": []
    },
    {
      "cell_type": "code",
      "source": [
        "# Create sample tables\n",
        "c.execute('''CREATE TABLE IF NOT EXISTS students(\n",
        "              id INTEGER PRIMARY KEY,\n",
        "              name TEXT,\n",
        "              class_id INTEGER\n",
        "              )'''\n",
        "              )\n",
        "c.execute('''CREATE TABLE IF NOT EXISTS classes(\n",
        "              id INTEGER PRIMARY KEY,\n",
        "              class_name TEXT\n",
        "              )'''\n",
        "              )"
      ],
      "metadata": {
        "colab": {
          "base_uri": "https://localhost:8080/"
        },
        "id": "f-3bRSqCQLD-",
        "outputId": "ed0353b0-5f85-4b91-977b-2eac3d5e9c68"
      },
      "execution_count": 17,
      "outputs": [
        {
          "output_type": "execute_result",
          "data": {
            "text/plain": [
              "<sqlite3.Cursor at 0x7ba0090ab1c0>"
            ]
          },
          "metadata": {},
          "execution_count": 17
        }
      ]
    },
    {
      "cell_type": "code",
      "source": [
        "# Adding some sample data\n",
        "students_data = [(1, 'John', 1), (2, 'Emma', 2), (3, 'Harry', 1)]\n",
        "classes_data = [(1, 'Math'), (2, 'Science')]\n",
        "c.executemany('INSERT INTO students VALUES (?,?,?)', students_data)\n",
        "c.executemany('INSERT INTO classes VALUES (?,?)', classes_data)"
      ],
      "metadata": {
        "colab": {
          "base_uri": "https://localhost:8080/"
        },
        "id": "IYwfW3cAQqNq",
        "outputId": "2ca0442a-68f4-4ee7-e08a-62cb10f42be3"
      },
      "execution_count": 18,
      "outputs": [
        {
          "output_type": "execute_result",
          "data": {
            "text/plain": [
              "<sqlite3.Cursor at 0x7ba0090ab1c0>"
            ]
          },
          "metadata": {},
          "execution_count": 18
        }
      ]
    },
    {
      "cell_type": "code",
      "source": [
        "# This example demonstrates how to perform an efficient join between two tables.\n",
        "c.execute('''SELECT students.name, classes.class_name\n",
        "          FROM students\n",
        "          JOIN classes ON students.class_id = classes.id''')\n",
        "print(\"Join results: \", c.fetchall())\n",
        "\n",
        "# Cleanup\n",
        "conn.commit()\n",
        "conn.close()"
      ],
      "metadata": {
        "colab": {
          "base_uri": "https://localhost:8080/"
        },
        "id": "0xD7aNVXRunM",
        "outputId": "7c5bc7c4-cb9c-4910-9c45-56b83dbaa40c"
      },
      "execution_count": 19,
      "outputs": [
        {
          "output_type": "stream",
          "name": "stdout",
          "text": [
            "Join results:  [('John', 'Math'), ('Emma', 'Science'), ('Harry', 'Math')]\n"
          ]
        }
      ]
    },
    {
      "cell_type": "markdown",
      "source": [
        "# Example 5: Advanced PRAGMA Optimization Example"
      ],
      "metadata": {
        "id": "7vYSMN2FSiIp"
      }
    },
    {
      "cell_type": "code",
      "source": [
        "import sqlite3 as sl\n",
        "# Connect to SQLite database\n",
        "conn = sl.connect('example4.db')\n",
        "c = conn.cursor()"
      ],
      "metadata": {
        "id": "Vgbnp0kQSwpm"
      },
      "execution_count": 1,
      "outputs": []
    },
    {
      "cell_type": "code",
      "source": [
        "# This example demonstrates the advanced use of PRAGMA statements\n",
        "# for various database optimizations including write-ahead logging, foreign key enforcement,\n",
        "# and query perfomance improvement\n",
        "\n",
        "# 1. Setting the journal mode to WAL (Write-Ahead Logging)\n",
        "# WAL can improve the perfomance of read operations write operations are happening.\n",
        "c.execute('PRAGMA journal_mode=WAL')\n",
        "journal_mode = c.fetchone()[0]\n",
        "print(\"Journal mode set to: \", journal_mode)\n",
        "\n",
        "# 2. Enabling foreign key constraints\n",
        "# Ensures referential integrity in the database.\n",
        "c.execute('PRAGMA foreign_keys=ON')\n",
        "c.execute('PRAGMA foreign_keys')\n",
        "fk_status = c.fetchone()[0]\n",
        "print(\"Foreign keys status:\", \"Enabled\" if fk_status else \"Disabled\")\n",
        "\n",
        "# 3. Setting synchronous mode to NORMAL\n",
        "# This reduces the number of disk writes, speeding up transactions at the risk of some data loss in case of crash.\n",
        "c.execute('PRAGMA synchronous=NORMAL')\n",
        "c.execute('PRAGMA synchronous')\n",
        "sync_mode = c.fetchone()[0]\n",
        "print(\"Synchronous mode set to: \", sync_mode)\n",
        "\n",
        "# 4. Adjusting cache size\n",
        "# Increasing the cache size can improve the database read perfomance by reducing disk 1/0\n",
        "c.execute('PRAGMA cache_size=10000') # Setting cache size to 10000 pages\n",
        "c.execute('PRAGMA cache_size')\n",
        "cache_size = c.fetchone()[0]\n",
        "print(\"Cache size set to: \", cache_size, \"pages\")\n",
        "\n",
        "# 5. Querying the database file size\n",
        "# Useful for monitoring the database size, which can be a factor in perfomance.\n",
        "c.execute('PRAGMA page_size')\n",
        "page_size = c.fetchone()[0]\n",
        "c.execute('PRAGMA page_count')\n",
        "page_count = c.fetchone()[0]\n",
        "db_size = page_size * page_count\n",
        "print(\"Database size: \", db_size, \"bytes\")\n",
        "\n",
        "# Cleanup\n",
        "conn.close()"
      ],
      "metadata": {
        "colab": {
          "base_uri": "https://localhost:8080/"
        },
        "id": "ZRd7BYhcTC8F",
        "outputId": "5b6cf18d-14b6-4ce8-e0b7-615229838ab5"
      },
      "execution_count": 2,
      "outputs": [
        {
          "output_type": "stream",
          "name": "stdout",
          "text": [
            "Journal mode set to:  wal\n",
            "Foreign keys status: Enabled\n",
            "Synchronous mode set to:  1\n",
            "Cache size set to:  10000 pages\n",
            "Database size:  4096 bytes\n"
          ]
        }
      ]
    }
  ]
}