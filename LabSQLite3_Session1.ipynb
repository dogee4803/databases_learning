{
  "nbformat": 4,
  "nbformat_minor": 0,
  "metadata": {
    "colab": {
      "provenance": [],
      "authorship_tag": "ABX9TyMg8/GaMkrGkeql6cN08NEq"
    },
    "kernelspec": {
      "name": "python3",
      "display_name": "Python 3"
    },
    "language_info": {
      "name": "python"
    }
  },
  "cells": [
    {
      "cell_type": "code",
      "execution_count": 1,
      "metadata": {
        "colab": {
          "base_uri": "https://localhost:8080/"
        },
        "id": "HVoOGkGoLvep",
        "outputId": "03325dfc-7afd-4a3c-8ddd-9abeb475b073"
      },
      "outputs": [
        {
          "output_type": "stream",
          "name": "stdout",
          "text": [
            "Opened database successfully\n",
            "Table created successfully\n"
          ]
        }
      ],
      "source": [
        "# Importing the sqlite3 library\n",
        "import sqlite3\n",
        "\n",
        "# Step 1: Connect to SQLite Database\n",
        "conn = sqlite3.connect('company_database.db')\n",
        "print(\"Opened database successfully\")\n",
        "\n",
        "# Step 2: Create Company Table\n",
        "conn.execute('''\n",
        "CREATE TABLE IF NOT EXISTS Company\n",
        "(ID INT PRIMARY KEY NOT NULL,\n",
        "NAME TEXT NOT NULL,\n",
        "AGE INT NOT NULL,\n",
        "ADRESS CHAR(50),\n",
        "SALARY REAL);''')\n",
        "\n",
        "print(\"Table created successfully\")"
      ]
    },
    {
      "cell_type": "code",
      "source": [
        "# Step 3: Insert Data into Company Table\n",
        "conn.execute(\"INSERT INTO Company (ID, NAME, AGE, ADRESS, SALARY) VALUES (1, 'Paul', 32, 'California', 20000.00)\")\n",
        "conn.execute(\"INSERT INTO Company (ID, NAME, AGE, ADRESS, SALARY) VALUES (2, 'Allen', 25, 'Texas', 15000.00)\")\n",
        "conn.execute(\"INSERT INTO Company (ID, NAME, AGE, ADRESS, SALARY) VALUES (3, 'Teddy', 23, 'Norway', 20000.00)\")\n",
        "conn.execute(\"INSERT INTO Company (ID, NAME, AGE, ADRESS, SALARY) VALUES (4, 'Mark', 25, 'Rich-Mond', 65000.00)\")\n",
        "\n",
        "conn.commit()\n",
        "print(\"Records inserted successfully\")"
      ],
      "metadata": {
        "colab": {
          "base_uri": "https://localhost:8080/"
        },
        "id": "Ox6aUEZQLyK6",
        "outputId": "5b6ad6b6-7459-4fdb-9fc7-cf12a94cdf24"
      },
      "execution_count": 2,
      "outputs": [
        {
          "output_type": "stream",
          "name": "stdout",
          "text": [
            "Records inserted successfully\n"
          ]
        }
      ]
    },
    {
      "cell_type": "code",
      "source": [
        "# Step 4: Extract Information from Company Table\n",
        "cursor = conn.execute(\"SELECT ID, NAME, AGE, ADRESS, SALARY from Company\")\n",
        "for row in cursor:\n",
        "  print(\"ID \\t= \", row[0])\n",
        "  print(\"NAME \\t= \", row[1])\n",
        "  print(\"AGE \\t= \", row[2])\n",
        "  print(\"ADRESS \\t= \", row[3])\n",
        "  print(\"SALARY \\t= \", row[4], \"\\n\")\n",
        "# Close the database connection\n",
        "conn.close()"
      ],
      "metadata": {
        "colab": {
          "base_uri": "https://localhost:8080/"
        },
        "id": "70jI7BtZMGrT",
        "outputId": "f6e70a46-1c98-464d-c35e-392290093b15"
      },
      "execution_count": 4,
      "outputs": [
        {
          "output_type": "stream",
          "name": "stdout",
          "text": [
            "ID \t=  1\n",
            "NAME \t=  Paul\n",
            "AGE \t=  32\n",
            "ADRESS \t=  California\n",
            "SALARY \t=  20000.0 \n",
            "\n",
            "ID \t=  2\n",
            "NAME \t=  Allen\n",
            "AGE \t=  25\n",
            "ADRESS \t=  Texas\n",
            "SALARY \t=  15000.0 \n",
            "\n",
            "ID \t=  3\n",
            "NAME \t=  Teddy\n",
            "AGE \t=  23\n",
            "ADRESS \t=  Norway\n",
            "SALARY \t=  20000.0 \n",
            "\n",
            "ID \t=  4\n",
            "NAME \t=  Mark\n",
            "AGE \t=  25\n",
            "ADRESS \t=  Rich-Mond\n",
            "SALARY \t=  65000.0 \n",
            "\n"
          ]
        }
      ]
    }
  ]
}