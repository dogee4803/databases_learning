{
  "nbformat": 4,
  "nbformat_minor": 0,
  "metadata": {
    "colab": {
      "provenance": [],
      "authorship_tag": "ABX9TyPtQJTH8+PTiMS+voyzleG2",
      "include_colab_link": true
    },
    "kernelspec": {
      "name": "python3",
      "display_name": "Python 3"
    },
    "language_info": {
      "name": "python"
    }
  },
  "cells": [
    {
      "cell_type": "markdown",
      "metadata": {
        "id": "view-in-github",
        "colab_type": "text"
      },
      "source": [
        "<a href=\"https://colab.research.google.com/github/dogee4803/db_course/blob/main/db_week11_homework.ipynb\" target=\"_parent\"><img src=\"https://colab.research.google.com/assets/colab-badge.svg\" alt=\"Open In Colab\"/></a>"
      ]
    },
    {
      "cell_type": "markdown",
      "source": [
        "# Exercise 1"
      ],
      "metadata": {
        "id": "l1MirUpeXMEI"
      }
    },
    {
      "cell_type": "code",
      "source": [
        "SELECT ID, name,\n",
        "  CASE\n",
        "    WHEN tot_cred < 30 THEN 'Freshman'\n",
        "    WHEN tot_cred >= 30 AND tot_cred < 60 THEN 'Sophomore'\n",
        "    WHEN tot_cred >= 60 AND tot_cred < 90 THEN 'Junior'\n",
        "    WHEN tot_cred >= 90 AND tot_cred < 120 THEN 'Senior'\n",
        "    ELSE 'Graduate'\n",
        "  END AS status\n",
        "FROM student;"
      ],
      "metadata": {
        "id": "MZjOhmJmSwRs"
      },
      "execution_count": null,
      "outputs": []
    },
    {
      "cell_type": "markdown",
      "source": [
        "# Exercise 2"
      ],
      "metadata": {
        "id": "MhhMJ0R7V_oB"
      }
    },
    {
      "cell_type": "code",
      "source": [
        "SELECT ID, name,\n",
        "  CASE\n",
        "    WHEN tot_cred < 30 THEN 'Freshman'\n",
        "    WHEN tot_cred >= 30 AND tot_cred < 60 THEN 'Sophomore'\n",
        "    WHEN tot_cred >= 60 AND tot_cred < 90 THEN 'Junior'\n",
        "    WHEN tot_cred >= 90 AND tot_cred < 120 THEN 'Senior'\n",
        "    ELSE 'Graduate'\n",
        "  END AS status,\n",
        "  COUNT(ID)\n",
        "FROM student\n",
        "  GROUP BY status;"
      ],
      "metadata": {
        "id": "a9gDkG5sXaGD"
      },
      "execution_count": null,
      "outputs": []
    },
    {
      "cell_type": "markdown",
      "source": [
        "# Group Exercises"
      ],
      "metadata": {
        "id": "lfbBhT_3YZye"
      }
    },
    {
      "cell_type": "code",
      "source": [
        "# Question 1\n",
        "SELECT\n",
        "  student.id,\n",
        "  student.name,\n",
        "  SUM(takes.grade * course.credits) / SUM(5 * course.credits) AS gpa # 5 is a max_grade\n",
        "FROM\n",
        "  student\n",
        "  JOIN takes ON takes.student_id = student.id\n",
        "  JOIN course ON course.id = takes.course_id;\n",
        "# Question 2\n",
        "SELECT ID, name,\n",
        "  CASE\n",
        "    WHEN gpa < 1.5 THEN 'F'\n",
        "    WHEN gpa >= 1.5 AND gpa < 2 THEN 'D'\n",
        "    WHEN gpa >= 2 AND gpa < 3 THEN 'C'\n",
        "    WHEN gpa >= 3 AND gpa < 3.75 THEN 'B'\n",
        "    ELSE 'A'\n",
        "  END AS category,\n",
        "  COUNT(ID)\n",
        "FROM student\n",
        "  GROUP BY category;"
      ],
      "metadata": {
        "id": "DGZ_nLtWY2Ji"
      },
      "execution_count": null,
      "outputs": []
    }
  ]
}